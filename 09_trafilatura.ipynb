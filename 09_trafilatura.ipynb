{
 "cells": [
  {
   "cell_type": "code",
   "execution_count": null,
   "id": "5dbd1c57",
   "metadata": {},
   "outputs": [],
   "source": [
    "import trafilatura"
   ]
  },
  {
   "cell_type": "code",
   "execution_count": null,
   "id": "f01cdeb3",
   "metadata": {},
   "outputs": [],
   "source": [
    "url = \"https://europa.eu/citizens-initiative-forum/blog/europeans-safe-connections-call-stronger-regulation-artificial-intelligence-decision-making_en\"\n",
    "downloaded = trafilatura.fetch_url(url)"
   ]
  },
  {
   "cell_type": "code",
   "execution_count": null,
   "id": "04f21fae",
   "metadata": {},
   "outputs": [],
   "source": [
    "result = trafilatura.extract(downloaded)\n",
    "result"
   ]
  },
  {
   "cell_type": "code",
   "execution_count": null,
   "id": "08b67cbd",
   "metadata": {},
   "outputs": [],
   "source": [
    "result = trafilatura.extract(\n",
    "    downloaded,\n",
    "    output_format=\"xml\",\n",
    "    url=url,\n",
    "    #include_comments=True,\n",
    "    #include_formatting=True,\n",
    "    #include_links=True,\n",
    "    #include_images=True,\n",
    "    #include_tables=True,\n",
    "    #favor_precision=True,\n",
    "    #favor_recall=True,\n",
    "    #target_language=\"en\"\n",
    ")"
   ]
  },
  {
   "cell_type": "code",
   "execution_count": null,
   "id": "3670c299",
   "metadata": {},
   "outputs": [],
   "source": [
    "print(result)"
   ]
  },
  {
   "cell_type": "code",
   "execution_count": null,
   "id": "48c2609f",
   "metadata": {},
   "outputs": [],
   "source": [
    "from xml.dom import minidom"
   ]
  },
  {
   "cell_type": "code",
   "execution_count": null,
   "id": "18425b7b",
   "metadata": {},
   "outputs": [],
   "source": [
    "print(minidom.parseString(result).toprettyxml(indent=\"    \"))"
   ]
  },
  {
   "cell_type": "code",
   "execution_count": null,
   "id": "f88fc74f",
   "metadata": {},
   "outputs": [],
   "source": [
    "from IPython.display import display, HTML\n",
    "display(HTML(\"<style>div.output_area pre {white-space: pre;}</style>\"))"
   ]
  },
  {
   "cell_type": "code",
   "execution_count": null,
   "id": "a0dc995a",
   "metadata": {},
   "outputs": [],
   "source": [
    "print(trafilatura.extract(downloaded, output_format=\"csv\"))"
   ]
  },
  {
   "cell_type": "code",
   "execution_count": null,
   "id": "9d331200",
   "metadata": {},
   "outputs": [],
   "source": [
    "print(trafilatura.extract(downloaded, output_format=\"json\"))"
   ]
  },
  {
   "cell_type": "code",
   "execution_count": null,
   "id": "261366e0",
   "metadata": {},
   "outputs": [],
   "source": [
    "from trafilatura.spider import focused_crawler"
   ]
  },
  {
   "cell_type": "code",
   "execution_count": null,
   "id": "da1aef35",
   "metadata": {},
   "outputs": [],
   "source": [
    "homepage = \"https://europa.eu/citizens-initiative-forum/blog_en\""
   ]
  },
  {
   "cell_type": "code",
   "execution_count": null,
   "id": "f8c72593",
   "metadata": {},
   "outputs": [],
   "source": [
    "# starting a crawl\n",
    "to_visit, known_urls = focused_crawler(homepage, max_seen_urls=10, max_known_urls=100000)"
   ]
  },
  {
   "cell_type": "code",
   "execution_count": null,
   "id": "f7ac3e4b",
   "metadata": {},
   "outputs": [],
   "source": [
    "list(to_visit)"
   ]
  },
  {
   "cell_type": "code",
   "execution_count": null,
   "id": "8369fe12",
   "metadata": {},
   "outputs": [],
   "source": [
    "sorted(known_urls)"
   ]
  },
  {
   "cell_type": "code",
   "execution_count": null,
   "id": "daf117e4",
   "metadata": {},
   "outputs": [],
   "source": [
    "# resuming a crawl\n",
    "to_visit, known_urls = focused_crawler(homepage, max_seen_urls=10, max_known_urls=100000, todo=to_visit, known_links=known_urls)"
   ]
  },
  {
   "cell_type": "code",
   "execution_count": null,
   "id": "caa06545",
   "metadata": {},
   "outputs": [],
   "source": [
    "# filter the crawl links\n",
    "sorted([url for url in known_urls if url.startswith(\"https://europa.eu/citizens-initiative-forum/blog/\")])"
   ]
  },
  {
   "cell_type": "code",
   "execution_count": null,
   "id": "c19d6a2d",
   "metadata": {},
   "outputs": [],
   "source": []
  }
 ],
 "metadata": {
  "kernelspec": {
   "display_name": "Python 3 (ipykernel)",
   "language": "python",
   "name": "python3"
  },
  "language_info": {
   "codemirror_mode": {
    "name": "ipython",
    "version": 3
   },
   "file_extension": ".py",
   "mimetype": "text/x-python",
   "name": "python",
   "nbconvert_exporter": "python",
   "pygments_lexer": "ipython3",
   "version": "3.10.6"
  }
 },
 "nbformat": 4,
 "nbformat_minor": 5
}
