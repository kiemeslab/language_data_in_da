{
 "cells": [
  {
   "cell_type": "code",
   "execution_count": null,
   "id": "352f040a",
   "metadata": {},
   "outputs": [],
   "source": [
    "import json\n",
    "import csv"
   ]
  },
  {
   "cell_type": "code",
   "execution_count": null,
   "id": "8f039c13",
   "metadata": {},
   "outputs": [],
   "source": [
    "tweets = []\n",
    "\n",
    "with open('tweets.jsonl', encoding='utf8') as jsonl:\n",
    "    for tweet in jsonl:\n",
    "        tweets.append(json.loads(tweet))"
   ]
  },
  {
   "cell_type": "code",
   "execution_count": null,
   "id": "faed45fa",
   "metadata": {},
   "outputs": [],
   "source": [
    "with open(\"tweets.csv\", \"w\", encoding=\"utf8\", newline=\"\") as csvfile:\n",
    "    fieldnames = [\"author_id\", \"conversation_id\", \"created_at\", \"id\", \"in_reply_to_user_id\", \"like_count\", \"quote_count\", \"reply_count\", \"retweet_count\", \"referenced_tweet_ids\", \"reference_types\", \"text\"]\n",
    "    writer = csv.DictWriter(csvfile, dialect=\"excel\", delimiter=\";\", fieldnames=fieldnames, extrasaction=\"ignore\")\n",
    "    writer.writeheader()\n",
    "    \n",
    "    for tweet in tweets:        \n",
    "        tweet_fields = {\n",
    "            \"author_id\": tweet[\"author_id\"],\n",
    "            \"conversation_id\": tweet[\"conversation_id\"],\n",
    "            \"created_at\": tweet[\"created_at\"],\n",
    "            \"id\": tweet[\"id\"],\n",
    "            \"in_reply_to_user_id\": tweet.get(\"in_reply_to_user_id\"),\n",
    "            \"like_count\": tweet.get(\"public_metrics\", {}).get(\"like_count\"),\n",
    "            \"quote_count\": tweet.get(\"public_metrics\", {}).get(\"quote_count\"),\n",
    "            \"reply_count\": tweet.get(\"public_metrics\", {}).get(\"reply_count\"),\n",
    "            \"retweet_count\": tweet.get(\"public_metrics\", {}).get(\"retweet_count\"),\n",
    "            \"referenced_tweet_ids\": \", \".join([referenced.get(\"id\") for referenced in tweet.get(\"referenced_tweets\", {})]),\n",
    "            \"reference_types\": \", \".join([referenced.get(\"type\") for referenced in tweet.get(\"referenced_tweets\", {})]),\n",
    "            \"text\": tweet[\"text\"].replace(\"\\n\", \" \")\n",
    "        }\n",
    "        writer.writerow(tweet_fields)"
   ]
  },
  {
   "cell_type": "code",
   "execution_count": null,
   "id": "bfb5a33a",
   "metadata": {},
   "outputs": [],
   "source": [
    "tweets"
   ]
  },
  {
   "cell_type": "code",
   "execution_count": null,
   "id": "406aa814",
   "metadata": {},
   "outputs": [],
   "source": [
    "tweet_fields"
   ]
  },
  {
   "cell_type": "code",
   "execution_count": null,
   "id": "afe96488",
   "metadata": {},
   "outputs": [],
   "source": []
  }
 ],
 "metadata": {
  "kernelspec": {
   "display_name": "Python 3 (ipykernel)",
   "language": "python",
   "name": "python3"
  },
  "language_info": {
   "codemirror_mode": {
    "name": "ipython",
    "version": 3
   },
   "file_extension": ".py",
   "mimetype": "text/x-python",
   "name": "python",
   "nbconvert_exporter": "python",
   "pygments_lexer": "ipython3",
   "version": "3.10.6"
  }
 },
 "nbformat": 4,
 "nbformat_minor": 5
}
