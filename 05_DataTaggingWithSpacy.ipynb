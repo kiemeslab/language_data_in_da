{
 "cells": [
  {
   "cell_type": "code",
   "execution_count": null,
   "id": "1c0f67e6",
   "metadata": {},
   "outputs": [],
   "source": [
    "# First, we have to import the previously installed library\n",
    "import spacy"
   ]
  },
  {
   "cell_type": "code",
   "execution_count": null,
   "id": "660a30c2",
   "metadata": {},
   "outputs": [],
   "source": [
    "# Let's create a tiny corpus\n",
    "spacy_corpus = \"Mary Lou McDonald grew up in a republican household in Dublin to a backdrop of the Troubles in Northern Ireland. \\\"My family's connections with the IRA would have been in the 1920s,\\\" she says.\""
   ]
  },
  {
   "cell_type": "code",
   "execution_count": null,
   "id": "8c92c6ef",
   "metadata": {},
   "outputs": [],
   "source": [
    "# before spaCy can annotate anything, we have to load a trained statistical model\n",
    "nlp = spacy.load(\"en_core_web_sm\")"
   ]
  },
  {
   "cell_type": "code",
   "execution_count": null,
   "id": "4744bbc1",
   "metadata": {},
   "outputs": [],
   "source": [
    "# nlp() runs the default model annotation pipeline on our example corpus\n",
    "# 'doc' now contains the annotated spaCy data object\n",
    "doc = nlp(spacy_corpus)"
   ]
  },
  {
   "cell_type": "code",
   "execution_count": null,
   "id": "bdc82a68",
   "metadata": {},
   "outputs": [],
   "source": [
    "# count the tokens of our corpus document\n",
    "len(doc)"
   ]
  },
  {
   "cell_type": "code",
   "execution_count": null,
   "id": "cc261193",
   "metadata": {},
   "outputs": [],
   "source": [
    "# spaCy docs are composed of Token objects\n",
    "print(type(doc[0]))\n",
    "doc[0]"
   ]
  },
  {
   "cell_type": "code",
   "execution_count": null,
   "id": "fdc49657",
   "metadata": {},
   "outputs": [],
   "source": [
    "# Token objects have different attributes containing their linguistic annotations\n",
    "for token in doc:\n",
    "    print(token.text)\n",
    "    print(token.pos_)\n",
    "    print(token.pos_, token.tag_)\n",
    "    print(token.lemma_)\n",
    "    print(token.morph)\n",
    "    print(token.ent_iob_, token.ent_type_, '\\n')"
   ]
  },
  {
   "cell_type": "code",
   "execution_count": null,
   "id": "91359406",
   "metadata": {},
   "outputs": [],
   "source": [
    "spacy.explain('NORP')"
   ]
  },
  {
   "cell_type": "code",
   "execution_count": null,
   "id": "4259afec",
   "metadata": {},
   "outputs": [],
   "source": [
    "for sentence in doc.sents:\n",
    "    print(sentence)"
   ]
  },
  {
   "cell_type": "code",
   "execution_count": null,
   "id": "f30aa276",
   "metadata": {},
   "outputs": [],
   "source": [
    "for entity in doc.ents:\n",
    "    print(entity)"
   ]
  },
  {
   "cell_type": "code",
   "execution_count": null,
   "id": "8458d392",
   "metadata": {},
   "outputs": [],
   "source": [
    "type(doc.ents[0])"
   ]
  },
  {
   "cell_type": "code",
   "execution_count": null,
   "id": "73347dfd",
   "metadata": {},
   "outputs": [],
   "source": [
    "vrt = '<text>\\n'\n",
    "for sentence in doc.sents:\n",
    "    vrt += '<s>\\n'\n",
    "    entity = False\n",
    "    for token in sentence:\n",
    "        if entity == False and token.ent_iob_ == 'B':\n",
    "            entity = True\n",
    "            vrt += f'<entity type=\\'{token.ent_type_}\\'>\\n'\n",
    "        elif entity == True and not token.ent_iob_ == 'I':\n",
    "            entity = False\n",
    "            vrt += '</entity type>\\n'\n",
    "        vrt += '\\t'.join((token.text, token.pos_, token.lemma_, str(token.morph), token.ent_type_, token.ent_iob_)) + '\\n'\n",
    "    vrt += '</s>\\n'\n",
    "vrt += '</text>\\n'\n",
    "\n",
    "print(vrt)"
   ]
  },
  {
   "cell_type": "code",
   "execution_count": null,
   "id": "bd837317",
   "metadata": {},
   "outputs": [],
   "source": [
    "vrt = '<text>\\n'\n",
    "for sentence in doc.sents:\n",
    "    vrt += '<sentence>\\n'\n",
    "    for token in sentence:\n",
    "        vrt += token.text + '\\n'\n",
    "    vrt += '</sentence>\\n'\n",
    "vrt += '</text>\\n'\n",
    "\n",
    "print(vrt)"
   ]
  },
  {
   "cell_type": "code",
   "execution_count": null,
   "id": "1f711e5f",
   "metadata": {},
   "outputs": [],
   "source": [
    "vrt = '<person>\\nMary\\nLou\\nMcDonald\\n</person>'\n",
    "print(vrt)"
   ]
  },
  {
   "cell_type": "code",
   "execution_count": null,
   "id": "a6cf4d31",
   "metadata": {},
   "outputs": [],
   "source": []
  }
 ],
 "metadata": {
  "kernelspec": {
   "display_name": "Python 3 (ipykernel)",
   "language": "python",
   "name": "python3"
  },
  "language_info": {
   "codemirror_mode": {
    "name": "ipython",
    "version": 3
   },
   "file_extension": ".py",
   "mimetype": "text/x-python",
   "name": "python",
   "nbconvert_exporter": "python",
   "pygments_lexer": "ipython3",
   "version": "3.10.6"
  }
 },
 "nbformat": 4,
 "nbformat_minor": 5
}
